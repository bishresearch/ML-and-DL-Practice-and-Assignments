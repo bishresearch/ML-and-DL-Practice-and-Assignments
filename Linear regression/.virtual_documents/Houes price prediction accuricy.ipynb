import pandas as pd 
import numpy as np 
from matplotlib import pyplot as plt 
import warnings
warnings.filterwarnings('ignore')


df = pd.read_csv('Dhaka Rent.csv')


df.head()


x = df[['area']]
y = df[['rent']]
y.head()


plt.scatter(df['area'], df['rent'], marker='o', color='red')
plt.xlabel("Area")
plt.ylabel('Rent')



df.area.mean()


df.rent.mean()


from sklearn.linear_model import LinearRegression


reg = LinearRegression()


reg.fit(x,y)


reg.coef_


reg.intercept_


reg.predict([[2500]])


df['predict']= reg.predict(x)
df.head()


df['residuals'] = df[['rent']]- reg.predict(x)
df.head()


plt.scatter(df.area,df.predict,marker='*',color='Black')
plt.xlabel('Rent')
plt.ylabel('Predict')



plt.scatter(df['area'], df['rent'], marker='o', color='red')
plt.plot(df.area,df.predict,marker='*',color='Black')


reg.score(x,y)


from sklearn.model_selection import train_test_split as tts


xtrain, xtest, ytrain, ytest = tts(x,y)


reg.fit(xtest,ytest)


reg.score(xtest,ytest)


reg.score(xtrain,ytrain)


reg.predict([[2100]])



