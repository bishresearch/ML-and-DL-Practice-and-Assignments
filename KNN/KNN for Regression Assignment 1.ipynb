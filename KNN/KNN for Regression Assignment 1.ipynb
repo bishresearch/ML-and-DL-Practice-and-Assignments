{
 "cells": [
  {
   "cell_type": "code",
   "execution_count": 2,
   "id": "ba1216b5-0954-4fbf-8e40-6cbb3b6ff3c8",
   "metadata": {},
   "outputs": [],
   "source": [
    "import pandas as pd \n",
    "import numpy as np  \n",
    "import matplotlib.pyplot as plt \n",
    "from sklearn.linear_model import LinearRegression\n",
    "from sklearn.metrics import mean_squared_error, mean_absolute_error\n",
    "from sklearn.neighbors import KNeighborsRegressor, KNeighborsClassifier\n",
    "import warnings\n",
    "warnings.filterwarnings('ignore')"
   ]
  },
  {
   "cell_type": "code",
   "execution_count": 3,
   "id": "79c43edb-6345-4507-9041-f81e19cc2a04",
   "metadata": {},
   "outputs": [
    {
     "data": {
      "text/html": [
       "<div>\n",
       "<style scoped>\n",
       "    .dataframe tbody tr th:only-of-type {\n",
       "        vertical-align: middle;\n",
       "    }\n",
       "\n",
       "    .dataframe tbody tr th {\n",
       "        vertical-align: top;\n",
       "    }\n",
       "\n",
       "    .dataframe thead th {\n",
       "        text-align: right;\n",
       "    }\n",
       "</style>\n",
       "<table border=\"1\" class=\"dataframe\">\n",
       "  <thead>\n",
       "    <tr style=\"text-align: right;\">\n",
       "      <th></th>\n",
       "      <th>Age</th>\n",
       "      <th>Income</th>\n",
       "    </tr>\n",
       "  </thead>\n",
       "  <tbody>\n",
       "    <tr>\n",
       "      <th>0</th>\n",
       "      <td>21</td>\n",
       "      <td>60</td>\n",
       "    </tr>\n",
       "    <tr>\n",
       "      <th>1</th>\n",
       "      <td>20</td>\n",
       "      <td>55</td>\n",
       "    </tr>\n",
       "    <tr>\n",
       "      <th>2</th>\n",
       "      <td>22</td>\n",
       "      <td>60</td>\n",
       "    </tr>\n",
       "    <tr>\n",
       "      <th>3</th>\n",
       "      <td>23</td>\n",
       "      <td>61</td>\n",
       "    </tr>\n",
       "    <tr>\n",
       "      <th>4</th>\n",
       "      <td>21</td>\n",
       "      <td>65</td>\n",
       "    </tr>\n",
       "    <tr>\n",
       "      <th>5</th>\n",
       "      <td>25</td>\n",
       "      <td>62</td>\n",
       "    </tr>\n",
       "    <tr>\n",
       "      <th>6</th>\n",
       "      <td>30</td>\n",
       "      <td>65</td>\n",
       "    </tr>\n",
       "    <tr>\n",
       "      <th>7</th>\n",
       "      <td>31</td>\n",
       "      <td>70</td>\n",
       "    </tr>\n",
       "  </tbody>\n",
       "</table>\n",
       "</div>"
      ],
      "text/plain": [
       "   Age  Income\n",
       "0   21      60\n",
       "1   20      55\n",
       "2   22      60\n",
       "3   23      61\n",
       "4   21      65\n",
       "5   25      62\n",
       "6   30      65\n",
       "7   31      70"
      ]
     },
     "execution_count": 3,
     "metadata": {},
     "output_type": "execute_result"
    }
   ],
   "source": [
    "\n",
    "age = np.array([21, 20, 22, 23, 21, 25, 30, 31])\n",
    "income = np.array([60, 55, 60, 61, 65, 62, 65, 70])\n",
    "\n",
    "age_2d = age.reshape(-1, 1)\n",
    "df = pd.DataFrame({'Age': age, 'Income': income})\n",
    "\n",
    "df.to_excel(\"ages_incomes.xlsx\", index=False)\n",
    "\n",
    "df\n"
   ]
  },
  {
   "cell_type": "code",
   "execution_count": 4,
   "id": "d8be9adf-35a0-4c5c-9f95-5de20d19765b",
   "metadata": {},
   "outputs": [
    {
     "name": "stdin",
     "output_type": "stream",
     "text": [
      "Enter your age: 22\n",
      "Enter your Neigbors: 3\n"
     ]
    },
    {
     "name": "stdout",
     "output_type": "stream",
     "text": [
      "Predicted income 22: 60.333333333333336\n"
     ]
    }
   ],
   "source": [
    "def euclidean_distance(point1, point2):\n",
    "    return np.sqrt(np.sum((point1 - point2)**2))\n",
    "\n",
    "\n",
    "def knn_regression(age, income, query_point, k):\n",
    "    distances = []\n",
    "\n",
    "    for i in range(len(age)):\n",
    "        distance = euclidean_distance(np.array([age[i]]), np.array([query_point]))\n",
    "        distances.append((distance, income[i]))\n",
    "\n",
    "    distances = sorted(distances)\n",
    "\n",
    "    nearest_neighbors = distances[:k]\n",
    "\n",
    "    avg_income = np.mean([neighbor[1] for neighbor in nearest_neighbors])\n",
    "    \n",
    "    return avg_income\n",
    "\n",
    "\n",
    "query_age = int(input(\"Enter your age:\"))\n",
    "k = int(input(\"Enter your Neigbors:\"))\n",
    "\n",
    "pred_income = knn_regression(age, income, query_age, k)\n",
    "print(f\"Predicted income {query_age}: {pred_income}\")"
   ]
  },
  {
   "cell_type": "code",
   "execution_count": null,
   "id": "1d44d19f-22bf-4f41-8b68-152f116758fc",
   "metadata": {},
   "outputs": [],
   "source": [
    "reg = LinearRegression()"
   ]
  },
  {
   "cell_type": "code",
   "execution_count": null,
   "id": "1243003f-3eaa-40f3-a790-f6260d097a68",
   "metadata": {},
   "outputs": [],
   "source": [
    "reg.fit(age_2d, income)\n"
   ]
  },
  {
   "cell_type": "code",
   "execution_count": null,
   "id": "1aacb395-10c5-4eca-bfd7-87f6d0d582e7",
   "metadata": {},
   "outputs": [],
   "source": [
    "reg.coef_"
   ]
  },
  {
   "cell_type": "code",
   "execution_count": null,
   "id": "6d0167d1-3173-497a-920e-a5b86d6bbfcb",
   "metadata": {},
   "outputs": [],
   "source": [
    "reg.intercept_"
   ]
  },
  {
   "cell_type": "code",
   "execution_count": null,
   "id": "be8352f7-e97e-4027-9974-fe400b5f2a15",
   "metadata": {},
   "outputs": [],
   "source": [
    "reg.predict([[22]])"
   ]
  },
  {
   "cell_type": "code",
   "execution_count": null,
   "id": "50275e80-2aff-4798-9dc1-6d280323fafb",
   "metadata": {},
   "outputs": [],
   "source": []
  }
 ],
 "metadata": {
  "kernelspec": {
   "display_name": "Python 3 (ipykernel)",
   "language": "python",
   "name": "python3"
  },
  "language_info": {
   "codemirror_mode": {
    "name": "ipython",
    "version": 3
   },
   "file_extension": ".py",
   "mimetype": "text/x-python",
   "name": "python",
   "nbconvert_exporter": "python",
   "pygments_lexer": "ipython3",
   "version": "3.12.4"
  }
 },
 "nbformat": 4,
 "nbformat_minor": 5
}
