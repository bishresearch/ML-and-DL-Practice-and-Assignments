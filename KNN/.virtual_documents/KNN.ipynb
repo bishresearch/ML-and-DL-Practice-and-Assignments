import pandas as pd 
import numpy as np  
import matplotlib.pyplot as plt 
from sklearn.linear_model import LinearRegression
from sklearn.metrics import mean_squared_error, mean_absolute_error
from sklearn.neighbors import KNeighborsRegressor, KNeighborsClassifier
import warnings
warnings.filterwarnings('ignore')


df = pd.read_csv("Income prediction with Age.csv")
df.head()


df.corr()


df.shape


df.columns


df.isnull().sum()


x = df[['age']]
y = df['income(k)']





reg = LinearRegression()


reg.fit(x,y)


reg.coef_


reg.intercept_


df['Predicted income(k)'] = reg.predict(x)


df


df['Residuals'] = y - df['Predicted income(k)']


df


predicted_income = reg.predict(x)


plt.scatter(x,y,marker='o',color='red',label='Age vs. Income')
plt.plot(x, df['Predicted income(k)'],color='black')
plt.xlabel ("Age")
plt.ylabel ("Income(k)")
plt.legend()


mse = mean_squared_error(y,predicted_income)


mse


mae = mean_absolute_error(y,predicted_income)
mae


reg.score(x,y)





knn = KNeighborsRegressor(n_neighbors=3)
knn.fit(x, y)


predicted_income_knn = knn.predict(np.array([[22]]))


predicted_income_knn


reg.predict(np.array([[22]]))


knn.score(x,y)



