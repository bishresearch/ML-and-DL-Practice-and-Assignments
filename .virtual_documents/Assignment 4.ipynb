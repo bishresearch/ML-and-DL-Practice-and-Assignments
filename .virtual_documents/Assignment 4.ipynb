import pandas as pd 
import numpy as np 
from sklearn.linear_model import LinearRegression


Weight = np.array([2,4,5,3,6,5,7])
Price = np.array([35,60,20,50,50,55,60])


df = pd.DataFrame({'Weight': Weight, 'Price': Price})
df


x = df[['Weight']]
y = df['Price']


import matplotlib.pyplot as plt
plt.scatter(df.Weight, df.Price, marker='o',color='red')
plt.xlabel('Weight')
plt.ylabel('Price')


N = len(Weight) 
sum_x = np.sum(Weight) 
sum_y = np.sum(Price) 
sum_xy = np.sum(Weight * Price) 
sum_x2 = np.sum(Weight**2) 

slope_formula1 = (N * sum_xy - sum_x * sum_y) / (N * sum_x2 - sum_x**2)
intercept_formula1 = (sum_y - slope_formula1 * sum_x) / N
print(f"Slope (M): {slope_formula1}")
print(f"Intercept (C): {intercept_formula1}")


def predict(weight, slope, intercept):
    return slope * weight + intercept
    
predicted_prices = predict(df.Weight, slope_formula1, intercept_formula1)



df['predicted_prices'] = predicted_prices
df


df['Residuals'] = df['Price'] - predicted_prices
df.head()


plt.scatter(df.Weight, df.Price, marker='o',color='red')
plt.plot(df.Weight, predicted_prices)
plt.xlabel('Weight')
plt.ylabel('Price')


mse = np.mean((df['Price'] - df['predicted_prices']) ** 2)
mae = np.mean(df['Price']-df['predicted_prices'])
mse, mae


df.to_excel('Assignment 4.xlsx', index=False)



